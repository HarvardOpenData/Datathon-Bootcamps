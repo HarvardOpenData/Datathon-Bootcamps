{
 "cells": [
  {
   "cell_type": "markdown",
   "metadata": {},
   "source": [
    "# Selenium Bootcamp"
   ]
  },
  {
   "cell_type": "markdown",
   "metadata": {},
   "source": [
    "## Why Selenium?\n",
    "\n",
    "Most of the time, scraping methods like RegEx or BeautifulSoup will be fine for dealing with websites. However, some websites handle things a little bit differently. Let's take a look. Run the following two cells:"
   ]
  },
  {
   "cell_type": "code",
   "execution_count": 16,
   "metadata": {},
   "outputs": [],
   "source": [
    "import os"
   ]
  },
  {
   "cell_type": "code",
   "execution_count": null,
   "metadata": {},
   "outputs": [],
   "source": [
    "os.system(\"open my_website.html\")"
   ]
  },
  {
   "cell_type": "markdown",
   "metadata": {},
   "source": [
    "### Let's try downloading the site and scraping the data. "
   ]
  },
  {
   "cell_type": "code",
   "execution_count": 17,
   "metadata": {},
   "outputs": [],
   "source": [
    "from urllib.request import Request, urlopen\n",
    "my_website_url = \"file://\" + os.getcwd() + \"/my_website.html\"\n",
    "html = str(urlopen(my_website_url).read())"
   ]
  },
  {
   "cell_type": "markdown",
   "metadata": {},
   "source": [
    "### Seems to work fine. Let's try scraping some data from it."
   ]
  },
  {
   "cell_type": "code",
   "execution_count": 38,
   "metadata": {},
   "outputs": [],
   "source": [
    "import re"
   ]
  },
  {
   "cell_type": "code",
   "execution_count": null,
   "metadata": {},
   "outputs": [],
   "source": [
    "static_data = re.findall(r'<td class = \"static_input\">(.+?)<\\/td><td class = \"static_output\">(.+?)<\\/td>', html)\n",
    "static_data"
   ]
  },
  {
   "cell_type": "markdown",
   "metadata": {},
   "source": [
    "### Looks good! But I think we have some data missing... Not a problem, let's try to scrape it"
   ]
  },
  {
   "cell_type": "code",
   "execution_count": null,
   "metadata": {},
   "outputs": [],
   "source": [
    "dynamic_data = re.findall(r'<td class = \"dynamic_input\">(.+?)<\\/td><td class = \"dynamic_output\">(.+?)<\\/td>', html)\n",
    "dynamic_data"
   ]
  },
  {
   "cell_type": "markdown",
   "metadata": {},
   "source": [
    "## What went wrong?"
   ]
  },
  {
   "cell_type": "markdown",
   "metadata": {},
   "source": [
    "## Cases where you might need Selenium\n",
    "* Data is generated via interaction e.g. searching, clicking more, etc.\n",
    "* Data is generated via \"ajax\" requests\n",
    "* Website requires login of some kind\n",
    "* Dealing with the html parsing and regex is just too damn annoying"
   ]
  },
  {
   "cell_type": "markdown",
   "metadata": {},
   "source": [
    "## Download Instructions\n",
    "\n",
    "1. Install Selenium for Python. ```python3 -m pip install selenium```. [Full Instructions](https://selenium-python.readthedocs.io/installation.html)\n",
    "\n",
    "2. [Install chrome webdriver](https://sites.google.com/a/chromium.org/chromedriver/downloads).\n",
    "\n",
    "3. Move the resulting file to this folder.\n",
    "\n",
    "\n",
    "### Great! Now let's get started"
   ]
  },
  {
   "cell_type": "code",
   "execution_count": 1,
   "metadata": {},
   "outputs": [],
   "source": [
    "from selenium import webdriver\n",
    "from selenium.webdriver.common.keys import Keys\n",
    "from selenium.webdriver.common.by import By\n",
    "from selenium.webdriver.support.ui import WebDriverWait\n",
    "from selenium.webdriver.support import expected_conditions"
   ]
  },
  {
   "cell_type": "code",
   "execution_count": 43,
   "metadata": {},
   "outputs": [],
   "source": [
    "driver = webdriver.Chrome(\"chromedriver\")\n",
    "\n",
    "# for Windows users\n",
    "# driver = webdriver.Chrome(\"chromedriver.exe\")"
   ]
  },
  {
   "cell_type": "markdown",
   "metadata": {},
   "source": [
    "### Some helper functions that will be useful later"
   ]
  },
  {
   "cell_type": "code",
   "execution_count": 3,
   "metadata": {},
   "outputs": [],
   "source": [
    "def wait_until_present(driver, time, *locator):\n",
    "    return WebDriverWait(driver, time).until(expected_conditions.presence_of_element_located(locator))\n",
    "\n",
    "def find_element_by_text(driver, text):\n",
    "    return driver.find_element_by_xpath(\"//*[contains(text(), '{}')]\".format(text))"
   ]
  },
  {
   "cell_type": "markdown",
   "metadata": {},
   "source": [
    "### Let's try navigating to a url"
   ]
  },
  {
   "cell_type": "code",
   "execution_count": 4,
   "metadata": {},
   "outputs": [],
   "source": [
    "driver.get(\"http://google.com\")"
   ]
  },
  {
   "cell_type": "markdown",
   "metadata": {},
   "source": [
    "### Not too bad, now let's see if we can interact with the webpage"
   ]
  },
  {
   "cell_type": "code",
   "execution_count": 5,
   "metadata": {},
   "outputs": [],
   "source": [
    "search_box = wait_until_present(driver, 10, By.NAME, \"q\")"
   ]
  },
  {
   "cell_type": "code",
   "execution_count": 6,
   "metadata": {},
   "outputs": [],
   "source": [
    "search_box.send_keys(\"Harvard\" + Keys.ENTER)"
   ]
  },
  {
   "cell_type": "markdown",
   "metadata": {},
   "source": [
    "### A quick demo of what this can be useful for"
   ]
  },
  {
   "cell_type": "code",
   "execution_count": 14,
   "metadata": {},
   "outputs": [
    {
     "data": {
      "text/plain": [
       "[('Harvard University\\n\\nhttps://www.harvard.edu', 'https://www.harvard.edu/'),\n",
       " ('Admissions', 'https://college.harvard.edu/admissions'),\n",
       " ('Admissions & Aid', 'https://www.harvard.edu/admissions-aid'),\n",
       " ('Harvard College', 'https://college.harvard.edu/'),\n",
       " ('Visit Harvard', 'https://www.harvard.edu/on-campus/visit-harvard'),\n",
       " ('Harvard University - Wikipedia\\n\\nhttps://en.wikipedia.org › wiki › Harvard_University',\n",
       "  'https://en.wikipedia.org/wiki/Harvard_University'),\n",
       " ('Harvard Business School\\n\\nhttps://www.hbs.edu › Pages',\n",
       "  'https://www.hbs.edu/Pages/default.aspx'),\n",
       " ('Incoming Harvard Freshman Deported After Visa Revoked ...\\n\\nhttps://www.thecrimson.com › article › incoming-freshman-deported',\n",
       "  'https://www.thecrimson.com/article/2019/8/27/incoming-freshman-deported/'),\n",
       " ('Harvard University | History & Facts | Britannica.com\\n\\nhttps://www.britannica.com › topic › Harvard-University',\n",
       "  'https://www.britannica.com/topic/Harvard-University')]"
      ]
     },
     "execution_count": 14,
     "metadata": {},
     "output_type": "execute_result"
    }
   ],
   "source": [
    "result_divs = driver.find_elements_by_class_name(\"r\")\n",
    "link_elts = [div.find_element_by_tag_name(\"a\") for div in result_divs if div.text != \"\"]\n",
    "links = [(elt.text, elt.get_attribute(\"href\")) for elt in link_elts]\n",
    "links"
   ]
  },
  {
   "cell_type": "markdown",
   "metadata": {},
   "source": [
    "### Now let's try to do some basic interaction! Try navigating to my website from earlier!"
   ]
  },
  {
   "cell_type": "code",
   "execution_count": 31,
   "metadata": {},
   "outputs": [],
   "source": [
    "### SOLUTION ###\n",
    "driver.get(my_website_url)"
   ]
  },
  {
   "cell_type": "markdown",
   "metadata": {},
   "source": [
    "### It'd be nice if we could click the button... Let's try to get that button into a variable"
   ]
  },
  {
   "cell_type": "code",
   "execution_count": 34,
   "metadata": {},
   "outputs": [],
   "source": [
    "### SOLUTION ###\n",
    "my_button = driver.find_element_by_id(\"btnMore\")"
   ]
  },
  {
   "cell_type": "markdown",
   "metadata": {},
   "source": [
    "### Let's click it!"
   ]
  },
  {
   "cell_type": "code",
   "execution_count": 35,
   "metadata": {},
   "outputs": [],
   "source": [
    "my_button.click()"
   ]
  },
  {
   "cell_type": "markdown",
   "metadata": {},
   "source": [
    "### The new data is here! Let's try to scrape it. First, let's find the table."
   ]
  },
  {
   "cell_type": "code",
   "execution_count": 22,
   "metadata": {},
   "outputs": [],
   "source": [
    "### SOLUTION ###\n",
    "dynamic_table = driver.find_element_by_id(\"dynamic_table\")"
   ]
  },
  {
   "cell_type": "markdown",
   "metadata": {},
   "source": [
    "### Now let's get the row of each table"
   ]
  },
  {
   "cell_type": "code",
   "execution_count": 27,
   "metadata": {},
   "outputs": [
    {
     "data": {
      "text/plain": [
       "['1 1', '2 4', '3 9', '4 16', '5 25', '6 36', '7 49', '8 64', '9 81', '10 100']"
      ]
     },
     "execution_count": 27,
     "metadata": {},
     "output_type": "execute_result"
    }
   ],
   "source": [
    "rows = dynamic_table.find_elements_by_tag_name(\"tr\")"
   ]
  },
  {
   "cell_type": "markdown",
   "metadata": {},
   "source": [
    "### Great, now let's get the data within each row"
   ]
  },
  {
   "cell_type": "code",
   "execution_count": 29,
   "metadata": {},
   "outputs": [
    {
     "name": "stdout",
     "output_type": "stream",
     "text": [
      "1 1\n",
      "2 4\n",
      "3 9\n",
      "4 16\n",
      "5 25\n",
      "6 36\n",
      "7 49\n",
      "8 64\n",
      "9 81\n",
      "10 100\n"
     ]
    },
    {
     "data": {
      "text/plain": [
       "[('1', '1'),\n",
       " ('2', '4'),\n",
       " ('3', '9'),\n",
       " ('4', '16'),\n",
       " ('5', '25'),\n",
       " ('6', '36'),\n",
       " ('7', '49'),\n",
       " ('8', '64'),\n",
       " ('9', '81'),\n",
       " ('10', '100')]"
      ]
     },
     "execution_count": 29,
     "metadata": {},
     "output_type": "execute_result"
    }
   ],
   "source": [
    "data = []\n",
    "for row in rows[1:]:\n",
    "    ### SOLUTION ###\n",
    "    input_elt = row.find_elements_by_class_name(\"dynamic_input\")[0]\n",
    "    output_elt = row.find_elements_by_class_name(\"dynamic_output\")[0]\n",
    "    data.append((input_elt.text, output_elt.text))\n",
    "data"
   ]
  },
  {
   "cell_type": "markdown",
   "metadata": {},
   "source": [
    "### See? Not so bad! But that was kind of long... what if we could combine regex with Selenium?"
   ]
  },
  {
   "cell_type": "code",
   "execution_count": 36,
   "metadata": {},
   "outputs": [
    {
     "data": {
      "text/plain": [
       "'<html xmlns=\"http://www.w3.org/1999/xhtml\"><head>\\n        <title>\\n            My Website!\\n        </title>\\n        <style>\\n            table, th, td {\\n                border: 1px solid black;\\n            }\\n            td {\\n                padding: 10px;\\n            }\\n            th {\\n                padding: 10px;\\n            }\\n        </style>\\n        <script src=\"my_script.js\"></script>\\n    </head>\\n\\n    <body>\\n        <h1>Welcome to my website!</h1>\\n        <h3>Look at all of this data that I have</h3>\\n        <table id=\"static_table\">\\n            <tbody><tr><th>My Input</th><th>My Output</th></tr>\\n            <tr><td class=\"static_input\">1</td><td class=\"static_output\">2</td></tr>\\n            <tr><td class=\"static_input\">2</td><td class=\"static_output\">4</td></tr>\\n            <tr><td class=\"static_input\">3</td><td class=\"static_output\">6</td></tr>\\n            <tr><td class=\"static_input\">4</td><td class=\"static_output\">8</td></tr>\\n            <tr><td class=\"static_input\">5</td><td class=\"static_output\">10</td></tr>\\n        </tbody></table>\\n\\n        <h3>But wait! I have more data :)</h3>\\n        <button id=\"btnMore\" onclick=\"generateTable()\">Click me for more data!</button>\\n        <table id=\"dynamic_table\">\\n            <tbody><tr><th>More Inputs</th> <th>More Outputs</th></tr>\\n        </tbody><tr><td class=\"dynamic_input\">1</td><td class=\"dynamic_output\">1</td></tr><tr><td class=\"dynamic_input\">2</td><td class=\"dynamic_output\">4</td></tr><tr><td class=\"dynamic_input\">3</td><td class=\"dynamic_output\">9</td></tr><tr><td class=\"dynamic_input\">4</td><td class=\"dynamic_output\">16</td></tr><tr><td class=\"dynamic_input\">5</td><td class=\"dynamic_output\">25</td></tr><tr><td class=\"dynamic_input\">6</td><td class=\"dynamic_output\">36</td></tr><tr><td class=\"dynamic_input\">7</td><td class=\"dynamic_output\">49</td></tr><tr><td class=\"dynamic_input\">8</td><td class=\"dynamic_output\">64</td></tr><tr><td class=\"dynamic_input\">9</td><td class=\"dynamic_output\">81</td></tr><tr><td class=\"dynamic_input\">10</td><td class=\"dynamic_output\">100</td></tr></table>\\n    \\n    \\n</body></html>'"
      ]
     },
     "execution_count": 36,
     "metadata": {},
     "output_type": "execute_result"
    }
   ],
   "source": [
    "html = driver.page_source\n",
    "html"
   ]
  },
  {
   "cell_type": "markdown",
   "metadata": {},
   "source": [
    "### Now, we can use RegEx!"
   ]
  },
  {
   "cell_type": "code",
   "execution_count": 40,
   "metadata": {},
   "outputs": [
    {
     "data": {
      "text/plain": [
       "[('1', '1'),\n",
       " ('2', '4'),\n",
       " ('3', '9'),\n",
       " ('4', '16'),\n",
       " ('5', '25'),\n",
       " ('6', '36'),\n",
       " ('7', '49'),\n",
       " ('8', '64'),\n",
       " ('9', '81'),\n",
       " ('10', '100')]"
      ]
     },
     "execution_count": 40,
     "metadata": {},
     "output_type": "execute_result"
    }
   ],
   "source": [
    "### SOLUTION ###\n",
    "data = re.findall(r'<td class=\"dynamic_input\">(\\d+?)<\\/td><td class=\"dynamic_output\">(\\d+?)<\\/td>', html)\n",
    "data"
   ]
  },
  {
   "cell_type": "markdown",
   "metadata": {},
   "source": [
    "### Now for one of the best parts: the ability to navigate. Let's try scraping Canvas."
   ]
  },
  {
   "cell_type": "code",
   "execution_count": 45,
   "metadata": {},
   "outputs": [],
   "source": [
    "driver.get(\"http://canvas.harvard.edu\")"
   ]
  },
  {
   "cell_type": "markdown",
   "metadata": {},
   "source": [
    "### Let's see if we can get the todo titles"
   ]
  },
  {
   "cell_type": "code",
   "execution_count": 52,
   "metadata": {},
   "outputs": [
    {
     "data": {
      "text/plain": [
       "['Grade PSET 3', 'Complete HW 4', 'Turn in Homework 4']"
      ]
     },
     "execution_count": 52,
     "metadata": {},
     "output_type": "execute_result"
    }
   ],
   "source": [
    "### SOLUTION ###\n",
    "todo_elts = driver.find_elements_by_class_name(\"todo-details__title\")\n",
    "todo_titles = [elt.text for elt in todo_elts]\n",
    "todo_titles"
   ]
  },
  {
   "cell_type": "markdown",
   "metadata": {},
   "source": [
    "### Hmm... doesn't tell us that much. Let's get which classes they are for"
   ]
  },
  {
   "cell_type": "code",
   "execution_count": 50,
   "metadata": {},
   "outputs": [
    {
     "data": {
      "text/plain": [
       "['ECON 1011A', 'MATH 116', 'ECON 1126']"
      ]
     },
     "execution_count": 50,
     "metadata": {},
     "output_type": "execute_result"
    }
   ],
   "source": [
    "todo_class_elts = driver.find_elements_by_class_name(\"todo-details__context\")\n",
    "todo_classes = [elt.text for elt in todo_class_elts]\n",
    "todo_classes"
   ]
  },
  {
   "cell_type": "code",
   "execution_count": 55,
   "metadata": {},
   "outputs": [
    {
     "data": {
      "text/plain": [
       "[('ECON 1011A', 'Grade PSET 3'),\n",
       " ('MATH 116', 'Complete HW 4'),\n",
       " ('ECON 1126', 'Turn in Homework 4')]"
      ]
     },
     "execution_count": 55,
     "metadata": {},
     "output_type": "execute_result"
    }
   ],
   "source": [
    "todos = list(zip(todo_classes, todo_titles))\n",
    "todos"
   ]
  },
  {
   "cell_type": "markdown",
   "metadata": {},
   "source": [
    "### I'll leave it to you as a challenge to see if you can get due dates :)"
   ]
  },
  {
   "cell_type": "markdown",
   "metadata": {},
   "source": [
    "## A note on ethical scraping\n",
    "Scraping methods, especially like Selenium can give you a *lot* of power. Make sure you use it responsibly. Don't violate individual privacy, and make sure you check the user agreements of websites before you scrape them. Recently a court case ruled that it was legal to scrape LinkedIn, but even then, be careful. A lot of the information that you scrape is still subject to copy"
   ]
  }
 ],
 "metadata": {
  "kernelspec": {
   "display_name": "Python 3",
   "language": "python",
   "name": "python3"
  },
  "language_info": {
   "codemirror_mode": {
    "name": "ipython",
    "version": 3
   },
   "file_extension": ".py",
   "mimetype": "text/x-python",
   "name": "python",
   "nbconvert_exporter": "python",
   "pygments_lexer": "ipython3",
   "version": "3.7.0"
  }
 },
 "nbformat": 4,
 "nbformat_minor": 2
}
